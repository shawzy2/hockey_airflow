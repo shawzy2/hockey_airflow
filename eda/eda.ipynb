{
 "cells": [
  {
   "cell_type": "markdown",
   "id": "4cb81ea0",
   "metadata": {},
   "source": [
    "## Get List of Previous Day's Games Function\n",
    "1st attempt"
   ]
  },
  {
   "cell_type": "code",
   "execution_count": 1,
   "id": "a0921579",
   "metadata": {},
   "outputs": [],
   "source": [
    "import requests\n",
    "import json\n",
    "import pprint\n",
    "from datetime import date, timedelta\n",
    "import boto3\n",
    "from botocore.config import Config"
   ]
  },
  {
   "cell_type": "code",
   "execution_count": 2,
   "id": "46489ebd",
   "metadata": {},
   "outputs": [],
   "source": [
    "def get_prev_day_game_ids():\n",
    "    date_lookup = date.today() - timedelta(days=3)\n",
    "    r = requests.get(url='https://statsapi.web.nhl.com/api/v1/schedule?date=' + str(date_lookup))\n",
    "    d = r.json()\n",
    "    \n",
    "    if len(d['dates']) >= 1:  # check if there are games played on this day\n",
    "        game_ids = [game['gamePk'] for game in d['dates'][0]['games']]\n",
    "        return game_ids\n",
    "    return []"
   ]
  },
  {
   "cell_type": "code",
   "execution_count": 3,
   "id": "c9170c0a",
   "metadata": {},
   "outputs": [],
   "source": [
    "def get_prev_day_game_data(game_ids):\n",
    "    s3 = boto3.client('s3',\n",
    "        aws_access_key_id='xxxx',\n",
    "        aws_secret_access_key='xxxxx'\n",
    "    )\n",
    "    \n",
    "    for game_id in game_ids:\n",
    "        r = requests.get(url='https://statsapi.web.nhl.com/api/v1/game/' + str(game_id) + '/feed/live')\n",
    "        d = r.json()\n",
    "        \n",
    "        # split on event_types\n",
    "        blocked_shots = []\n",
    "        faceoffs = []\n",
    "        giveaways = []\n",
    "        goals = []\n",
    "        hits = []\n",
    "        missed_shots = []\n",
    "        penalties = []\n",
    "        shots = []\n",
    "        stops = []\n",
    "        takeaways = []\n",
    "        \n",
    "        # also track sequences (all plays from faceoff -> stoppage)\n",
    "        sequences = []\n",
    "        current_sequence = []\n",
    "        in_sequence = False\n",
    "        sequence_endings = {'STOP', 'GOAL', 'PERIOD_END'}\n",
    "        \n",
    "        for play in d['liveData']['plays']['allPlays']:    \n",
    "            # sift data into bins for each 'eventTypeId'\n",
    "            event_type = play['result']['eventTypeId']   \n",
    "            \n",
    "            if event_type == 'BLOCKED_SHOT':\n",
    "                blocked_shots.append(play)\n",
    "            elif event_type == 'FACEOFF':\n",
    "                faceoffs.append(play)\n",
    "                in_sequence = True\n",
    "            elif event_type == 'GIVEAWAY':\n",
    "                giveaways.append(play)\n",
    "            elif event_type == 'GOAL':\n",
    "                goals.append(play)\n",
    "            elif event_type == 'HIT':\n",
    "                hits.append(play)\n",
    "            elif event_type == 'MISSED_SHOT':\n",
    "                missed_shots.append(play)\n",
    "            elif event_type == 'PENALTY':\n",
    "                penalties.append(play)\n",
    "            elif event_type == 'SHOT':\n",
    "                shots.append(play)\n",
    "            elif event_type == 'STOP':\n",
    "                stops.append(play)\n",
    "            elif event_type == 'TAKEAWAY':\n",
    "                takeaways.append(play)            \n",
    "            \n",
    "            # check if play sequence has ended, add it to list of 'sequences', wait for next faceoff to happen\n",
    "            if in_sequence and event_type in sequence_endings:\n",
    "                sequences.append(current_sequence)\n",
    "                current_sequence = []\n",
    "                in_sequence = False\n",
    "            elif in_sequence and event_type == 'FACEOFF' and len(current_sequence) > 1:\n",
    "                sequences.append(current_sequence)\n",
    "                current_sequence = []\n",
    "                current_sequence.append(play)\n",
    "            elif in_sequence:\n",
    "                current_sequence.append(play)\n",
    "                \n",
    "        # store each list to associated s3 folder\n",
    "        bucket_name = 'nhl-api-scraper-test'\n",
    "        folders = ['BLOCKED_SHOT/', 'FACEOFF/', 'GIVEAWAY/', 'GOAL/', 'HIT/', 'MISSED_SHOT/', \n",
    "                       'PENALTY/', 'SHOT/', 'STOP/', 'TAKEAWAY/', 'SEQUENCE/']\n",
    "        event_type_plays = [blocked_shots, faceoffs, giveaways, goals, hits, missed_shots,\n",
    "                                penalties, shots, stops, takeaways, sequences]\n",
    "        \n",
    "        for i in range(0,len(folders)):\n",
    "            s3.put_object(Bucket=bucket_name, \n",
    "                 Key=folders[i] + str(game_id) + '.json',\n",
    "                 Body=bytes(json.dumps(event_type_plays[i]).encode('UTF-8'))\n",
    "            )\n",
    "\n",
    "        \n",
    "        \n",
    "    return 'success'\n"
   ]
  },
  {
   "cell_type": "code",
   "execution_count": 4,
   "id": "788806f3",
   "metadata": {
    "scrolled": true
   },
   "outputs": [
    {
     "name": "stdout",
     "output_type": "stream",
     "text": [
      "[2020030414]\n",
      "success\n"
     ]
    }
   ],
   "source": [
    "game_ids = get_prev_day_game_ids()\n",
    "print(game_ids)\n",
    "\n",
    "response = get_prev_day_game_data(game_ids)\n",
    "print(response)"
   ]
  },
  {
   "cell_type": "markdown",
   "id": "66ff52ee",
   "metadata": {},
   "source": [
    "## Define Functions to Increase Readability\n",
    "2nd attempt"
   ]
  },
  {
   "cell_type": "code",
   "execution_count": 2,
   "id": "a74a5252",
   "metadata": {},
   "outputs": [],
   "source": [
    "def get_game_data_from_api(game_id):\n",
    "    '''Gets event data for specified game\n",
    "    \n",
    "    Given the id of a game\n",
    "    Return a JSON object of all events that happened in game\n",
    "    '''\n",
    "    r = requests.get(url='https://statsapi.web.nhl.com/api/v1/game/' + str(game_id) + '/feed/live')\n",
    "    return r.json()\n",
    "\n",
    "def get_prev_day_game_data():\n",
    "    '''Gets event data for all games on previous day\n",
    "    \n",
    "    Return list contianing event data for all games that occured on previous day\n",
    "    '''\n",
    "    date_lookup = date.today() - timedelta(days=3)\n",
    "    r = requests.get(url='https://statsapi.web.nhl.com/api/v1/schedule?date=' + str(date_lookup))\n",
    "    d = r.json()\n",
    "    \n",
    "    # get list of game id's that occur on prev day\n",
    "    game_ids = []\n",
    "    if len(d['dates']) >= 1:\n",
    "        game_ids = [game['gamePk'] for game in d['dates'][0]['games']]\n",
    "    print(game_ids)\n",
    "\n",
    "    # download all game data for these games\n",
    "    game_data = [get_game_data_from_api(game_id) for game_id in game_ids]\n",
    "\n",
    "    return game_data"
   ]
  },
  {
   "cell_type": "code",
   "execution_count": 3,
   "id": "6fd33e25",
   "metadata": {},
   "outputs": [],
   "source": [
    "s3 = boto3.client('s3',\n",
    "        aws_access_key_id='xxxx',\n",
    "        aws_secret_access_key='xxxxx'\n",
    "    )\n",
    "\n",
    "def store_to_s3_bucket(folder, game_id, game_data):\n",
    "    '''Stores object to S3\n",
    "    \n",
    "    Given a folder (i.e. BLOCKED_SHOT), game_id, and game_data\n",
    "    Store game_data to S3 bucket\n",
    "    '''\n",
    "    bucket_name = 'nhl-api-scraper-test'\n",
    "    s3.put_object(Bucket=bucket_name, \n",
    "         Key = folder + '/' + str(game_id) + '.json',\n",
    "         Body = bytes(json.dumps(game_data).encode('UTF-8'))\n",
    "    )\n",
    "\n",
    "def get_data_by_event_type(response, event_type):\n",
    "    '''Extracts a list of events filtered by event_type\n",
    "    \n",
    "    Given a list of events (response) and an event_type\n",
    "    Return a message describing success/failure of extracting/storing events to S3 bucket\n",
    "    '''\n",
    "    if len(response) == 0:\n",
    "        return 'no games to process'\n",
    "    for game in response:\n",
    "        game_id = game['gameData']['game']['pk']\n",
    "        event_type_list = [play for play in game['liveData']['plays']['allPlays'] if play['result']['eventTypeId'] == event_type]\n",
    "        try:\n",
    "            store_to_s3_bucket(event_type, game_id, event_type_list)\n",
    "        except Exception:\n",
    "            return 'error when storing ' + folder\n",
    "    return 'success'\n",
    "\n",
    "def get_data_by_sequence(response):\n",
    "    '''Extracts a list of events from faceoff to stopage\n",
    "    \n",
    "    Given a list of events\n",
    "    Return a message describing success/failure of extracting/storing events to S3 bucket\n",
    "    '''\n",
    "    if len(response) == 0:\n",
    "        return 'no games to process'\n",
    "    for game in response:\n",
    "        game_id = game['gameData']['game']['pk']\n",
    "        sequences = []\n",
    "        current_sequence = []\n",
    "        in_sequence = False\n",
    "        sequence_endings = {'STOP', 'GOAL', 'PERIOD_END'}\n",
    "        \n",
    "        for play in game['liveData']['plays']['allPlays']:\n",
    "            event_type = play['result']['eventTypeId'] \n",
    "            \n",
    "            # a sequence starts at a faceoff\n",
    "            if event_type == 'FACEOFF':\n",
    "                in_sequence = True\n",
    "                \n",
    "            # check if play sequence has ended, add it to list of 'sequences', wait for next faceoff to happen\n",
    "            if in_sequence and event_type in sequence_endings:\n",
    "                current_sequence.append(play)\n",
    "                sequences.append(current_sequence)\n",
    "                current_sequence = []\n",
    "                in_sequence = False\n",
    "            elif in_sequence and event_type == 'FACEOFF' and len(current_sequence) > 1:\n",
    "                sequences.append(current_sequence)\n",
    "                current_sequence = []\n",
    "                current_sequence.append(play)\n",
    "            elif in_sequence:\n",
    "                current_sequence.append(play)\n",
    "            \n",
    "        try:\n",
    "            store_to_s3_bucket('SEQUENCE', game_id, sequences)\n",
    "        except Exception:\n",
    "            return 'error when storing SEQUENCE'\n",
    "    return 'success'\n",
    "\n",
    "\n",
    "# def process_prev_day_game_data(response):\n",
    "#     event_types = ['BLOCKED_SHOT', 'FACEOFF', 'GIVEAWAY', 'GOAL', 'HIT', 'MISSED_SHOT', \n",
    "#                        'PENALTY', 'SHOT', 'STOP', 'TAKEAWAY']\n",
    "#     try:\n",
    "#         for event_type in event_types:\n",
    "#             get_data_by_event_type(response, event_type)\n",
    "#     except Exception:\n",
    "#         return 'error reaching s3'\n",
    "#     return 'success'\n"
   ]
  },
  {
   "cell_type": "code",
   "execution_count": 4,
   "id": "4223f9b1",
   "metadata": {},
   "outputs": [],
   "source": [
    "def transform_blocked_shot(response):\n",
    "    '''Stores JSON list of blocked shots to S3'''\n",
    "    return get_data_by_event_type(response, 'BLOCKED_SHOT')\n",
    "\n",
    "def transform_faceoff(response):\n",
    "    '''Stores JSON list of faceoffs to S3'''\n",
    "    return get_data_by_event_type(response, 'FACEOFF')\n",
    "\n",
    "def transform_giveaway(response):\n",
    "    '''Stores JSON list of giveaways to S3'''\n",
    "    return get_data_by_event_type(response, 'GIVEAWAY')\n",
    "\n",
    "def transform_goal(response):\n",
    "    '''Stores JSON list of goals to S3'''\n",
    "    return get_data_by_event_type(response, 'GOAL')\n",
    "\n",
    "def transform_hit(response):\n",
    "    '''Stores JSON list of hits to S3'''\n",
    "    return get_data_by_event_type(response, 'HIT')\n",
    "\n",
    "def transform_penalty(response):\n",
    "    '''Stores JSON list of penalties to S3'''\n",
    "    return get_data_by_event_type(response, 'PENALTY')\n",
    "\n",
    "def transform_shot(response):\n",
    "    '''Stores JSON list of shots to S3'''\n",
    "    return get_data_by_event_type(response, 'SHOT')\n",
    "\n",
    "def transform_stop(response):\n",
    "    '''Stores JSON list of stoppages to S3'''\n",
    "    return get_data_by_event_type(response, 'STOP')\n",
    "\n",
    "def transform_takeaway(response):\n",
    "    '''Stores JSON list of takeaway to S3'''\n",
    "    return get_data_by_event_type(response, 'TAKEAWAY')"
   ]
  },
  {
   "cell_type": "code",
   "execution_count": 5,
   "id": "a5258f65",
   "metadata": {},
   "outputs": [
    {
     "name": "stdout",
     "output_type": "stream",
     "text": [
      "[2020030415]\n"
     ]
    },
    {
     "data": {
      "text/plain": [
       "'success'"
      ]
     },
     "execution_count": 5,
     "metadata": {},
     "output_type": "execute_result"
    }
   ],
   "source": [
    "response = get_prev_day_game_data()\n",
    "transform_blocked_shot(response)\n",
    "transform_faceoff(response)\n",
    "transform_giveaway(response)\n",
    "transform_goal(response)\n",
    "transform_hit(response)\n",
    "transform_penalty(response)\n",
    "transform_shot(response)\n",
    "transform_stop(response)\n",
    "transform_takeaway(response)\n",
    "get_data_by_sequence(response)\n"
   ]
  },
  {
   "cell_type": "code",
   "execution_count": 98,
   "id": "3da6b128",
   "metadata": {},
   "outputs": [
    {
     "name": "stdout",
     "output_type": "stream",
     "text": [
      "[2020030415]\n"
     ]
    },
    {
     "data": {
      "text/plain": [
       "'success'"
      ]
     },
     "execution_count": 98,
     "metadata": {},
     "output_type": "execute_result"
    }
   ],
   "source": [
    "\n",
    "response = get_prev_day_game_data()\n",
    "process_prev_day_game_data(response)\n",
    "get_data_by_sequence(response)\n"
   ]
  },
  {
   "cell_type": "code",
   "execution_count": 7,
   "id": "39368bba",
   "metadata": {},
   "outputs": [
    {
     "ename": "TypeError",
     "evalue": "'str' object is not callable",
     "output_type": "error",
     "traceback": [
      "\u001b[0;31m---------------------------------------------------------------------------\u001b[0m",
      "\u001b[0;31mTypeError\u001b[0m                                 Traceback (most recent call last)",
      "\u001b[0;32m/var/folders/wv/rmmv0b490yv1ngdrc4csv6440000gs/T/ipykernel_26712/2559287328.py\u001b[0m in \u001b[0;36m<module>\u001b[0;34m\u001b[0m\n\u001b[1;32m      1\u001b[0m \u001b[0mds\u001b[0m \u001b[0;34m=\u001b[0m \u001b[0;34m'2021-07-10'\u001b[0m\u001b[0;34m\u001b[0m\u001b[0;34m\u001b[0m\u001b[0m\n\u001b[1;32m      2\u001b[0m \u001b[0;34m\u001b[0m\u001b[0m\n\u001b[0;32m----> 3\u001b[0;31m \u001b[0md\u001b[0m \u001b[0;34m=\u001b[0m \u001b[0mdate\u001b[0m\u001b[0;34m(\u001b[0m\u001b[0mdate\u001b[0m\u001b[0;34m)\u001b[0m\u001b[0;34m\u001b[0m\u001b[0;34m\u001b[0m\u001b[0m\n\u001b[0m\u001b[1;32m      4\u001b[0m \u001b[0;34m\u001b[0m\u001b[0m\n",
      "\u001b[0;31mTypeError\u001b[0m: 'str' object is not callable"
     ]
    }
   ],
   "source": [
    "ds = '2021-07-10'\n",
    "\n",
    "d = date(date)\n",
    "\n"
   ]
  },
  {
   "cell_type": "code",
   "execution_count": null,
   "id": "0a1a4387",
   "metadata": {},
   "outputs": [],
   "source": []
  }
 ],
 "metadata": {
  "kernelspec": {
   "display_name": "Python 3 (ipykernel)",
   "language": "python",
   "name": "python3"
  },
  "language_info": {
   "codemirror_mode": {
    "name": "ipython",
    "version": 3
   },
   "file_extension": ".py",
   "mimetype": "text/x-python",
   "name": "python",
   "nbconvert_exporter": "python",
   "pygments_lexer": "ipython3",
   "version": "3.9.5"
  }
 },
 "nbformat": 4,
 "nbformat_minor": 5
}
